{
 "cells": [
  {
   "cell_type": "markdown",
   "metadata": {},
   "source": [
    "This packed circle chart, created using Altair, visualizes the most common obesity levels across different age groups and genders. Each circle represents a specific demographic segment, where the size of the circle indicates the number of individuals within that group. The x-axis displays the age groups (16-25, 26-35, etc.), while the y-axis shows the corresponding count of individuals in each category. The color of each circle differentiates between obesity levels for easy comparison. This visualization helps wellness providers quickly identify high-risk groups and demographic patterns. By understanding which age and gender groups are more affected by obesity, providers can design more targeted wellness initiatives and health interventions to promote healthier habits and reduce obesity rates."
   ]
  },
  {
   "cell_type": "code",
   "execution_count": 11,
   "metadata": {},
   "outputs": [
    {
     "data": {
      "text/html": [
       "\n",
       "<style>\n",
       "  #altair-viz-4c8be713cf83495c9a3fd27b682475dc.vega-embed {\n",
       "    width: 100%;\n",
       "    display: flex;\n",
       "  }\n",
       "\n",
       "  #altair-viz-4c8be713cf83495c9a3fd27b682475dc.vega-embed details,\n",
       "  #altair-viz-4c8be713cf83495c9a3fd27b682475dc.vega-embed details summary {\n",
       "    position: relative;\n",
       "  }\n",
       "</style>\n",
       "<div id=\"altair-viz-4c8be713cf83495c9a3fd27b682475dc\"></div>\n",
       "<script type=\"text/javascript\">\n",
       "  var VEGA_DEBUG = (typeof VEGA_DEBUG == \"undefined\") ? {} : VEGA_DEBUG;\n",
       "  (function(spec, embedOpt){\n",
       "    let outputDiv = document.currentScript.previousElementSibling;\n",
       "    if (outputDiv.id !== \"altair-viz-4c8be713cf83495c9a3fd27b682475dc\") {\n",
       "      outputDiv = document.getElementById(\"altair-viz-4c8be713cf83495c9a3fd27b682475dc\");\n",
       "    }\n",
       "\n",
       "    const paths = {\n",
       "      \"vega\": \"https://cdn.jsdelivr.net/npm/vega@5?noext\",\n",
       "      \"vega-lib\": \"https://cdn.jsdelivr.net/npm/vega-lib?noext\",\n",
       "      \"vega-lite\": \"https://cdn.jsdelivr.net/npm/vega-lite@5.20.1?noext\",\n",
       "      \"vega-embed\": \"https://cdn.jsdelivr.net/npm/vega-embed@6?noext\",\n",
       "    };\n",
       "\n",
       "    function maybeLoadScript(lib, version) {\n",
       "      var key = `${lib.replace(\"-\", \"\")}_version`;\n",
       "      return (VEGA_DEBUG[key] == version) ?\n",
       "        Promise.resolve(paths[lib]) :\n",
       "        new Promise(function(resolve, reject) {\n",
       "          var s = document.createElement('script');\n",
       "          document.getElementsByTagName(\"head\")[0].appendChild(s);\n",
       "          s.async = true;\n",
       "          s.onload = () => {\n",
       "            VEGA_DEBUG[key] = version;\n",
       "            return resolve(paths[lib]);\n",
       "          };\n",
       "          s.onerror = () => reject(`Error loading script: ${paths[lib]}`);\n",
       "          s.src = paths[lib];\n",
       "        });\n",
       "    }\n",
       "\n",
       "    function showError(err) {\n",
       "      outputDiv.innerHTML = `<div class=\"error\" style=\"color:red;\">${err}</div>`;\n",
       "      throw err;\n",
       "    }\n",
       "\n",
       "    function displayChart(vegaEmbed) {\n",
       "      vegaEmbed(outputDiv, spec, embedOpt)\n",
       "        .catch(err => showError(`Javascript Error: ${err.message}<br>This usually means there's a typo in your chart specification. See the javascript console for the full traceback.`));\n",
       "    }\n",
       "\n",
       "    if(typeof define === \"function\" && define.amd) {\n",
       "      requirejs.config({paths});\n",
       "      let deps = [\"vega-embed\"];\n",
       "      require(deps, displayChart, err => showError(`Error loading script: ${err.message}`));\n",
       "    } else {\n",
       "      maybeLoadScript(\"vega\", \"5\")\n",
       "        .then(() => maybeLoadScript(\"vega-lite\", \"5.20.1\"))\n",
       "        .then(() => maybeLoadScript(\"vega-embed\", \"6\"))\n",
       "        .catch(showError)\n",
       "        .then(() => displayChart(vegaEmbed));\n",
       "    }\n",
       "  })({\"config\": {\"view\": {\"continuousWidth\": 300, \"continuousHeight\": 300}}, \"data\": {\"name\": \"data-77d9a6ecc62ead8857e75055453ce16a\"}, \"mark\": {\"type\": \"circle\"}, \"encoding\": {\"color\": {\"field\": \"NObeyesdad\", \"scale\": {\"scheme\": \"tableau10\"}, \"type\": \"nominal\"}, \"size\": {\"field\": \"Count\", \"type\": \"quantitative\"}, \"tooltip\": [{\"field\": \"Gender\", \"type\": \"nominal\"}, {\"field\": \"AgeGroup\", \"type\": \"ordinal\"}, {\"field\": \"NObeyesdad\", \"type\": \"nominal\"}, {\"field\": \"Count\", \"type\": \"quantitative\"}], \"x\": {\"field\": \"AgeGroup\", \"title\": \"Age Group\", \"type\": \"nominal\"}, \"y\": {\"field\": \"Count\", \"title\": \"Count\", \"type\": \"quantitative\"}}, \"title\": \"Obesity Levels by Age Group and Gender\", \"$schema\": \"https://vega.github.io/schema/vega-lite/v5.20.1.json\", \"datasets\": {\"data-77d9a6ecc62ead8857e75055453ce16a\": [{\"Gender\": \"Female\", \"AgeGroup\": \"16-25\", \"NObeyesdad\": \"Insufficient_Weight\", \"Count\": 163}, {\"Gender\": \"Female\", \"AgeGroup\": \"16-25\", \"NObeyesdad\": \"Normal_Weight\", \"Count\": 118}, {\"Gender\": \"Female\", \"AgeGroup\": \"16-25\", \"NObeyesdad\": \"Obesity_Type_I\", \"Count\": 94}, {\"Gender\": \"Female\", \"AgeGroup\": \"16-25\", \"NObeyesdad\": \"Obesity_Type_II\", \"Count\": 2}, {\"Gender\": \"Female\", \"AgeGroup\": \"16-25\", \"NObeyesdad\": \"Obesity_Type_III\", \"Count\": 156}, {\"Gender\": \"Female\", \"AgeGroup\": \"16-25\", \"NObeyesdad\": \"Overweight_Level_I\", \"Count\": 96}, {\"Gender\": \"Female\", \"AgeGroup\": \"16-25\", \"NObeyesdad\": \"Overweight_Level_II\", \"Count\": 51}, {\"Gender\": \"Female\", \"AgeGroup\": \"26-35\", \"NObeyesdad\": \"Insufficient_Weight\", \"Count\": 5}, {\"Gender\": \"Female\", \"AgeGroup\": \"26-35\", \"NObeyesdad\": \"Normal_Weight\", \"Count\": 14}, {\"Gender\": \"Female\", \"AgeGroup\": \"26-35\", \"NObeyesdad\": \"Obesity_Type_I\", \"Count\": 8}, {\"Gender\": \"Female\", \"AgeGroup\": \"26-35\", \"NObeyesdad\": \"Obesity_Type_III\", \"Count\": 167}, {\"Gender\": \"Female\", \"AgeGroup\": \"26-35\", \"NObeyesdad\": \"Overweight_Level_I\", \"Count\": 28}, {\"Gender\": \"Female\", \"AgeGroup\": \"26-35\", \"NObeyesdad\": \"Overweight_Level_II\", \"Count\": 31}, {\"Gender\": \"Female\", \"AgeGroup\": \"36-45\", \"NObeyesdad\": \"Insufficient_Weight\", \"Count\": 1}, {\"Gender\": \"Female\", \"AgeGroup\": \"36-45\", \"NObeyesdad\": \"Normal_Weight\", \"Count\": 3}, {\"Gender\": \"Female\", \"AgeGroup\": \"36-45\", \"NObeyesdad\": \"Obesity_Type_I\", \"Count\": 51}, {\"Gender\": \"Female\", \"AgeGroup\": \"36-45\", \"NObeyesdad\": \"Overweight_Level_I\", \"Count\": 21}, {\"Gender\": \"Female\", \"AgeGroup\": \"36-45\", \"NObeyesdad\": \"Overweight_Level_II\", \"Count\": 20}, {\"Gender\": \"Female\", \"AgeGroup\": \"46-55\", \"NObeyesdad\": \"Normal_Weight\", \"Count\": 1}, {\"Gender\": \"Female\", \"AgeGroup\": \"46-55\", \"NObeyesdad\": \"Obesity_Type_I\", \"Count\": 2}, {\"Gender\": \"Female\", \"AgeGroup\": \"46-55\", \"NObeyesdad\": \"Overweight_Level_II\", \"Count\": 1}, {\"Gender\": \"Female\", \"AgeGroup\": \"56-65\", \"NObeyesdad\": \"Normal_Weight\", \"Count\": 1}, {\"Gender\": \"Male\", \"AgeGroup\": \"16-25\", \"NObeyesdad\": \"Insufficient_Weight\", \"Count\": 98}, {\"Gender\": \"Male\", \"AgeGroup\": \"16-25\", \"NObeyesdad\": \"Normal_Weight\", \"Count\": 127}, {\"Gender\": \"Male\", \"AgeGroup\": \"16-25\", \"NObeyesdad\": \"Obesity_Type_I\", \"Count\": 135}, {\"Gender\": \"Male\", \"AgeGroup\": \"16-25\", \"NObeyesdad\": \"Obesity_Type_II\", \"Count\": 84}, {\"Gender\": \"Male\", \"AgeGroup\": \"16-25\", \"NObeyesdad\": \"Obesity_Type_III\", \"Count\": 1}, {\"Gender\": \"Male\", \"AgeGroup\": \"16-25\", \"NObeyesdad\": \"Overweight_Level_I\", \"Count\": 108}, {\"Gender\": \"Male\", \"AgeGroup\": \"16-25\", \"NObeyesdad\": \"Overweight_Level_II\", \"Count\": 110}, {\"Gender\": \"Male\", \"AgeGroup\": \"26-35\", \"NObeyesdad\": \"Normal_Weight\", \"Count\": 15}, {\"Gender\": \"Male\", \"AgeGroup\": \"26-35\", \"NObeyesdad\": \"Obesity_Type_I\", \"Count\": 43}, {\"Gender\": \"Male\", \"AgeGroup\": \"26-35\", \"NObeyesdad\": \"Obesity_Type_II\", \"Count\": 182}, {\"Gender\": \"Male\", \"AgeGroup\": \"26-35\", \"NObeyesdad\": \"Overweight_Level_I\", \"Count\": 22}, {\"Gender\": \"Male\", \"AgeGroup\": \"26-35\", \"NObeyesdad\": \"Overweight_Level_II\", \"Count\": 59}, {\"Gender\": \"Male\", \"AgeGroup\": \"36-45\", \"NObeyesdad\": \"Normal_Weight\", \"Count\": 2}, {\"Gender\": \"Male\", \"AgeGroup\": \"36-45\", \"NObeyesdad\": \"Obesity_Type_I\", \"Count\": 17}, {\"Gender\": \"Male\", \"AgeGroup\": \"36-45\", \"NObeyesdad\": \"Obesity_Type_II\", \"Count\": 29}, {\"Gender\": \"Male\", \"AgeGroup\": \"36-45\", \"NObeyesdad\": \"Overweight_Level_II\", \"Count\": 10}, {\"Gender\": \"Male\", \"AgeGroup\": \"46-55\", \"NObeyesdad\": \"Overweight_Level_I\", \"Count\": 1}, {\"Gender\": \"Male\", \"AgeGroup\": \"46-55\", \"NObeyesdad\": \"Overweight_Level_II\", \"Count\": 4}, {\"Gender\": \"Male\", \"AgeGroup\": \"56-65\", \"NObeyesdad\": \"Overweight_Level_II\", \"Count\": 4}]}}, {\"mode\": \"vega-lite\"});\n",
       "</script>"
      ],
      "text/plain": [
       "alt.Chart(...)"
      ]
     },
     "execution_count": 11,
     "metadata": {},
     "output_type": "execute_result"
    }
   ],
   "source": [
    "import pandas as pd\n",
    "import altair as alt\n",
    "\n",
    "# Load dataset\n",
    "file_path = 'data/Cleaned_ObesityDataSet_raw_and_data_sinthetic.csv'\n",
    "df = pd.read_csv(file_path)\n",
    "\n",
    "# Create Age Groups\n",
    "df['AgeGroup'] = pd.cut(\n",
    "    df['Age'],\n",
    "    bins=[15, 25, 35, 45, 55, 65],\n",
    "    labels=['16-25', '26-35', '36-45', '46-55', '56-65']\n",
    ")\n",
    "\n",
    "# Group by Gender, AgeGroup, and Obesity Level\n",
    "count_df = df.groupby(['Gender', 'AgeGroup', 'NObeyesdad'], observed=True).size().reset_index(name='Count')\n",
    "\n",
    "# Create Packed Circle Chart\n",
    "chart = alt.Chart(count_df).mark_circle().encode(\n",
    "    x=alt.X('AgeGroup:N', title='Age Group'),\n",
    "    y=alt.Y('Count:Q', title='Count'),\n",
    "    size='Count:Q',\n",
    "    color=alt.Color('NObeyesdad:N', scale=alt.Scale(scheme='tableau10')),  # Colorblind scheme\n",
    "    tooltip=['Gender', 'AgeGroup', 'NObeyesdad', 'Count']\n",
    ").properties(\n",
    "    title='Obesity Levels by Age Group and Gender'\n",
    ")\n",
    "\n",
    "chart\n",
    "\n",
    "\n",
    "\n"
   ]
  }
 ],
 "metadata": {
  "kernelspec": {
   "display_name": "dsi_participant",
   "language": "python",
   "name": "python3"
  },
  "language_info": {
   "codemirror_mode": {
    "name": "ipython",
    "version": 3
   },
   "file_extension": ".py",
   "mimetype": "text/x-python",
   "name": "python",
   "nbconvert_exporter": "python",
   "pygments_lexer": "ipython3",
   "version": "3.9.18"
  }
 },
 "nbformat": 4,
 "nbformat_minor": 2
}
