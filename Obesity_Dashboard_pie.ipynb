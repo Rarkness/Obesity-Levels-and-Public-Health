{
 "cells": [
  {
   "cell_type": "markdown",
   "metadata": {},
   "source": [
    "# Visualization of Obesity Levels Based On Eating Habits and Physical Condition via Pie chart\n",
    "\n",
    "- **Authors:**\n",
    "\n",
    "    - Bitewulign Mekonnen\n",
    "    - Yalda Rahmati\n",
    "    - Richard (Rick) Harkness\n",
    "    - Gulrukh Aqeel\n",
    "    - Kate Antonova\n",
    "\n",
    "- **Technical Facilitator:**\n",
    "\n",
    "    - Phil Van-Lane(he/him) phil.vanlane@mail.utoronto.ca\n",
    "- **Learning Support Staff:**\n",
    "\n",
    "    - Aditya Kulkarni (he/him) aditya.kulkarni@mail.utoronto.ca\n",
    "    - Farzaneh Hashemi (she/her) fhashemi.ma@gmail.com\n",
    "    - Sergii Khomych (he/him) svkhomich1@gmail.com"
   ]
  },
  {
   "cell_type": "code",
   "execution_count": null,
   "metadata": {},
   "outputs": [
    {
     "data": {
      "text/html": [
       "\n",
       "        <iframe\n",
       "            width=\"100%\"\n",
       "            height=\"650\"\n",
       "            src=\"http://127.0.0.1:8052/\"\n",
       "            frameborder=\"0\"\n",
       "            allowfullscreen\n",
       "            \n",
       "        ></iframe>\n",
       "        "
      ],
      "text/plain": [
       "<IPython.lib.display.IFrame at 0x24ef6ffa9d0>"
      ]
     },
     "metadata": {},
     "output_type": "display_data"
    }
   ],
   "source": [
    "#importing the required libraries\n",
    "import dash\n",
    "from dash import dcc, html\n",
    "from dash.dependencies import Input, Output\n",
    "import pandas as pd\n",
    "import plotly.express as px\n",
    "import plotly.graph_objects as go\n",
    "\n",
    "# Load the dataset \n",
    "df = pd.read_csv('data/Cleaned_ObesityDataSet_raw_and_data_sinthetic.csv')\n",
    "\n",
    "# Selecting relevant features\n",
    "features = list(df.columns) \n",
    "df = df[features]\n",
    "\n",
    "numerical_cols = df.select_dtypes(['float64', 'int64']).columns\n",
    "categorical_features = df.select_dtypes(['object']).columns[:-1]\n",
    "# Initialize the Dash app\n",
    "app = dash.Dash(__name__)\n",
    "server = app.server  # For deployment\n",
    "\n",
    "# Define categorical features\n",
    "#categorical_features = ['Gender', 'family_history_with_overweight', 'FAVC', 'CAEC', 'SMOKE', 'SCC', 'CALC', 'MTRANS']\n",
    "\n",
    "# Create an app layout\n",
    "app.layout = html.Div(children=[\n",
    "    html.H1(\"Obesity Levels Dashboard\", style={'textAlign': 'center', 'fontWeight': 'bold', 'fontSize': 30}),\n",
    "    \n",
    "    # Dropdown for selecting categorical feature\n",
    "    html.Label(\"Select a Feature:\", style={'fontWeight': 'bold'}),\n",
    "    dcc.Dropdown(\n",
    "        id='feature-dropdown',\n",
    "        options=[{'label': col, 'value': col} for col in categorical_features],\n",
    "        value='Gender',\n",
    "        placeholder=\"Select a categorical feature\",\n",
    "        searchable=True\n",
    "    ),\n",
    "    html.Br(),\n",
    "    \n",
    "    # Dropdown for selecting category within feature\n",
    "    html.Label(\"Select a Category:\", style={'fontWeight': 'bold'}),\n",
    "    dcc.Dropdown(id='category-dropdown', placeholder=\"Select a category\", searchable=True),\n",
    "    html.Br(),\n",
    "    \n",
    "    # Graph output\n",
    "    html.Div([dcc.Graph(id='piechart-output')]),\n",
    "    html.Br(),\n",
    "])\n",
    "\n",
    "@app.callback(\n",
    "    Output('category-dropdown', 'options'),\n",
    "    Input('feature-dropdown', 'value')\n",
    ")\n",
    "def update_category_options(selected_feature):\n",
    "    unique_values = df[selected_feature].unique()\n",
    "    return [{'label': 'All', 'value': 'All'}] + [{'label': val, 'value': val} for val in unique_values]\n",
    "\n",
    "@app.callback(\n",
    "    Output('piechart-output', 'figure'),\n",
    "    [Input('feature-dropdown', 'value'), Input('category-dropdown', 'value')]\n",
    ")\n",
    "def update_pie_chart(selected_feature, selected_category):\n",
    "    if not selected_category or selected_category == 'All':\n",
    "        fig = px.pie(df, names='NObeyesdad', title=f'Obesity Level Distribution Across All {selected_feature}')\n",
    "    else:\n",
    "        filtered_df = df[df[selected_feature] == selected_category]\n",
    "        fig = px.pie(filtered_df, names='NObeyesdad', title=f'Obesity Level Distribution for {selected_category} in {selected_feature}')\n",
    "    return fig\n",
    "\n",
    "# Run the app\n",
    "if __name__ == '__main__':\n",
    "    app.run_server(debug=True, port=8052)"
   ]
  }
 ],
 "metadata": {
  "kernelspec": {
   "display_name": "dsi_participant",
   "language": "python",
   "name": "python3"
  },
  "language_info": {
   "codemirror_mode": {
    "name": "ipython",
    "version": 3
   },
   "file_extension": ".py",
   "mimetype": "text/x-python",
   "name": "python",
   "nbconvert_exporter": "python",
   "pygments_lexer": "ipython3",
   "version": "3.9.15"
  }
 },
 "nbformat": 4,
 "nbformat_minor": 2
}
